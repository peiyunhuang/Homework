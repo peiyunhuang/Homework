{
 "cells": [
  {
   "cell_type": "markdown",
   "metadata": {},
   "source": [
    "### Heroes Of Pymoli Data Analysis\n",
    "* Of the 1163 active players, the vast majority are male (84%). There also exists, a smaller, but notable proportion of female players (14%).\n",
    "\n",
    "* Our peak age demographic falls between 20-24 (44.8%) with secondary groups falling between 15-19 (18.60%) and 25-29 (13.4%).  \n",
    "-----"
   ]
  },
  {
   "cell_type": "markdown",
   "metadata": {},
   "source": [
    "### Note\n",
    "* Instructions have been included for each segment. You do not have to follow them exactly, but they are included to help you think through the steps."
   ]
  },
  {
   "cell_type": "code",
   "execution_count": 1,
   "metadata": {},
   "outputs": [],
   "source": [
    "# Dependencies and Setup\n",
    "import pandas as pd\n",
    "\n",
    "# File to Load (Remember to Change These)\n",
    "file_to_load = \"Resources/purchase_data.csv\"\n",
    "\n",
    "# Read Purchasing File and store into Pandas data frame\n",
    "purchase_data = pd.read_csv(file_to_load)"
   ]
  },
  {
   "cell_type": "markdown",
   "metadata": {},
   "source": [
    "## Player Count"
   ]
  },
  {
   "cell_type": "markdown",
   "metadata": {},
   "source": [
    "* Display the total number of players\n"
   ]
  },
  {
   "cell_type": "code",
   "execution_count": 2,
   "metadata": {},
   "outputs": [
    {
     "data": {
      "text/html": [
       "<div>\n",
       "<style scoped>\n",
       "    .dataframe tbody tr th:only-of-type {\n",
       "        vertical-align: middle;\n",
       "    }\n",
       "\n",
       "    .dataframe tbody tr th {\n",
       "        vertical-align: top;\n",
       "    }\n",
       "\n",
       "    .dataframe thead th {\n",
       "        text-align: right;\n",
       "    }\n",
       "</style>\n",
       "<table border=\"1\" class=\"dataframe\">\n",
       "  <thead>\n",
       "    <tr style=\"text-align: right;\">\n",
       "      <th></th>\n",
       "      <th>Total Players</th>\n",
       "    </tr>\n",
       "  </thead>\n",
       "  <tbody>\n",
       "    <tr>\n",
       "      <th>0</th>\n",
       "      <td>576</td>\n",
       "    </tr>\n",
       "  </tbody>\n",
       "</table>\n",
       "</div>"
      ],
      "text/plain": [
       "   Total Players\n",
       "0            576"
      ]
     },
     "execution_count": 2,
     "metadata": {},
     "output_type": "execute_result"
    }
   ],
   "source": [
    "total_players = len(purchase_data[\"SN\"].value_counts())\n",
    "player_count = pd.DataFrame({\"Total Players\":[total_players]})\n",
    "player_count"
   ]
  },
  {
   "cell_type": "markdown",
   "metadata": {},
   "source": [
    "## Purchasing Analysis (Total)"
   ]
  },
  {
   "cell_type": "markdown",
   "metadata": {},
   "source": [
    "* Run basic calculations to obtain number of unique items, average price, etc.\n",
    "\n",
    "\n",
    "* Create a summary data frame to hold the results\n",
    "\n",
    "\n",
    "* Optional: give the displayed data cleaner formatting\n",
    "\n",
    "\n",
    "* Display the summary data frame\n"
   ]
  },
  {
   "cell_type": "code",
   "execution_count": 3,
   "metadata": {
    "scrolled": true
   },
   "outputs": [
    {
     "data": {
      "text/html": [
       "<style  type=\"text/css\" >\n",
       "</style><table id=\"T_034bd490_bc40_11e9_8dc6_5cea1d67d3de\" ><thead>    <tr>        <th class=\"blank level0\" ></th>        <th class=\"col_heading level0 col0\" >Number of Unique Items</th>        <th class=\"col_heading level0 col1\" >Average Price</th>        <th class=\"col_heading level0 col2\" >Number of Purchase</th>        <th class=\"col_heading level0 col3\" >Total Revenue</th>    </tr></thead><tbody>\n",
       "                <tr>\n",
       "                        <th id=\"T_034bd490_bc40_11e9_8dc6_5cea1d67d3delevel0_row0\" class=\"row_heading level0 row0\" >0</th>\n",
       "                        <td id=\"T_034bd490_bc40_11e9_8dc6_5cea1d67d3derow0_col0\" class=\"data row0 col0\" >183</td>\n",
       "                        <td id=\"T_034bd490_bc40_11e9_8dc6_5cea1d67d3derow0_col1\" class=\"data row0 col1\" >$3.05</td>\n",
       "                        <td id=\"T_034bd490_bc40_11e9_8dc6_5cea1d67d3derow0_col2\" class=\"data row0 col2\" >780</td>\n",
       "                        <td id=\"T_034bd490_bc40_11e9_8dc6_5cea1d67d3derow0_col3\" class=\"data row0 col3\" >$2,379.77</td>\n",
       "            </tr>\n",
       "    </tbody></table>"
      ],
      "text/plain": [
       "<pandas.io.formats.style.Styler at 0x1d0e3939e10>"
      ]
     },
     "execution_count": 3,
     "metadata": {},
     "output_type": "execute_result"
    }
   ],
   "source": [
    "# Number of Unique items\n",
    "number_of_unique_items = len((purchase_data[\"Item ID\"]).unique())\n",
    "# Average Price\n",
    "average_price = (purchase_data[\"Price\"]).mean()\n",
    "#Number of Purhases\n",
    "number_of_purchases = (purchase_data[\"Purchase ID\"]).count()\n",
    "#Total Revenue\n",
    "total_revenue = (purchase_data[\"Price\"]).sum()\n",
    "\n",
    "# Summary Data Frame \n",
    "summary_df = pd.DataFrame({\"Number of Unique Items\":[number_of_unique_items],\n",
    "                           \"Average Price\":[average_price],\n",
    "                           \"Number of Purchase\":[number_of_purchases], \n",
    "                           \"Total Revenue\": [total_revenue]})\n",
    "# Data Cleaner Formatting\n",
    "summary_df.style.format({\"Average Price\":\"${:,.2f}\", \n",
    "                        \"Total Revenue\": \"${:,.2f}\"})\n"
   ]
  },
  {
   "cell_type": "markdown",
   "metadata": {},
   "source": [
    "## Gender Demographics"
   ]
  },
  {
   "cell_type": "markdown",
   "metadata": {},
   "source": [
    "* Percentage and Count of Male Players\n",
    "\n",
    "\n",
    "* Percentage and Count of Female Players\n",
    "\n",
    "\n",
    "* Percentage and Count of Other / Non-Disclosed\n",
    "\n",
    "\n"
   ]
  },
  {
   "cell_type": "code",
   "execution_count": 4,
   "metadata": {},
   "outputs": [
    {
     "data": {
      "text/html": [
       "<style  type=\"text/css\" >\n",
       "</style><table id=\"T_034f054a_bc40_11e9_9f6e_5cea1d67d3de\" ><thead>    <tr>        <th class=\"blank level0\" ></th>        <th class=\"col_heading level0 col0\" >Percentage of Players</th>        <th class=\"col_heading level0 col1\" >Total Count</th>    </tr></thead><tbody>\n",
       "                <tr>\n",
       "                        <th id=\"T_034f054a_bc40_11e9_9f6e_5cea1d67d3delevel0_row0\" class=\"row_heading level0 row0\" >Male</th>\n",
       "                        <td id=\"T_034f054a_bc40_11e9_9f6e_5cea1d67d3derow0_col0\" class=\"data row0 col0\" >84.03</td>\n",
       "                        <td id=\"T_034f054a_bc40_11e9_9f6e_5cea1d67d3derow0_col1\" class=\"data row0 col1\" >484</td>\n",
       "            </tr>\n",
       "            <tr>\n",
       "                        <th id=\"T_034f054a_bc40_11e9_9f6e_5cea1d67d3delevel0_row1\" class=\"row_heading level0 row1\" >Female</th>\n",
       "                        <td id=\"T_034f054a_bc40_11e9_9f6e_5cea1d67d3derow1_col0\" class=\"data row1 col0\" >14.06</td>\n",
       "                        <td id=\"T_034f054a_bc40_11e9_9f6e_5cea1d67d3derow1_col1\" class=\"data row1 col1\" >81</td>\n",
       "            </tr>\n",
       "            <tr>\n",
       "                        <th id=\"T_034f054a_bc40_11e9_9f6e_5cea1d67d3delevel0_row2\" class=\"row_heading level0 row2\" >Other / Non-Disclosed</th>\n",
       "                        <td id=\"T_034f054a_bc40_11e9_9f6e_5cea1d67d3derow2_col0\" class=\"data row2 col0\" >1.91</td>\n",
       "                        <td id=\"T_034f054a_bc40_11e9_9f6e_5cea1d67d3derow2_col1\" class=\"data row2 col1\" >11</td>\n",
       "            </tr>\n",
       "    </tbody></table>"
      ],
      "text/plain": [
       "<pandas.io.formats.style.Styler at 0x1d0e4019e10>"
      ]
     },
     "execution_count": 4,
     "metadata": {},
     "output_type": "execute_result"
    }
   ],
   "source": [
    "# Group purchase_data by Gender\n",
    "gender_status = purchase_data.groupby(\"Gender\")\n",
    "# Count the total of screen names \"SN\" by gender\n",
    "total_count_gender= gender_status.nunique()[\"SN\"]\n",
    "# Percentage of Players\n",
    "percentage_of_players = total_count_gender / total_players * 100\n",
    "\n",
    "# Creat Data Frame with percentage of players and total count\n",
    "gender_demographics = pd.DataFrame({\"Percentage of Players\": percentage_of_players, \"Total Count\": total_count_gender})\n",
    "\n",
    "# Data Formatting\n",
    "gender_demographics.index.name = None\n",
    "gender_demographics.sort_values([\"Total Count\"], ascending = False).style.format({\"Percentage of Players\":\"{:.2f}\"})\n"
   ]
  },
  {
   "cell_type": "markdown",
   "metadata": {},
   "source": [
    "\n",
    "## Purchasing Analysis (Gender)"
   ]
  },
  {
   "cell_type": "markdown",
   "metadata": {},
   "source": [
    "* Run basic calculations to obtain purchase count, avg. purchase price, avg. purchase total per person etc. by gender\n",
    "\n",
    "\n",
    "\n",
    "\n",
    "* Create a summary data frame to hold the results\n",
    "\n",
    "\n",
    "* Optional: give the displayed data cleaner formatting\n",
    "\n",
    "\n",
    "* Display the summary data frame"
   ]
  },
  {
   "cell_type": "code",
   "execution_count": 5,
   "metadata": {},
   "outputs": [
    {
     "data": {
      "text/html": [
       "<style  type=\"text/css\" >\n",
       "</style><table id=\"T_0350da58_bc40_11e9_898b_5cea1d67d3de\" ><thead>    <tr>        <th class=\"blank level0\" ></th>        <th class=\"col_heading level0 col0\" >Purhase Count</th>        <th class=\"col_heading level0 col1\" >Average Purchase Price</th>        <th class=\"col_heading level0 col2\" >Total Purchase Value</th>        <th class=\"col_heading level0 col3\" >Avg Total Purchase per Person</th>    </tr>    <tr>        <th class=\"index_name level0\" >Gender</th>        <th class=\"blank\" ></th>        <th class=\"blank\" ></th>        <th class=\"blank\" ></th>        <th class=\"blank\" ></th>    </tr></thead><tbody>\n",
       "                <tr>\n",
       "                        <th id=\"T_0350da58_bc40_11e9_898b_5cea1d67d3delevel0_row0\" class=\"row_heading level0 row0\" >Female</th>\n",
       "                        <td id=\"T_0350da58_bc40_11e9_898b_5cea1d67d3derow0_col0\" class=\"data row0 col0\" >113</td>\n",
       "                        <td id=\"T_0350da58_bc40_11e9_898b_5cea1d67d3derow0_col1\" class=\"data row0 col1\" >$3.20</td>\n",
       "                        <td id=\"T_0350da58_bc40_11e9_898b_5cea1d67d3derow0_col2\" class=\"data row0 col2\" >361.94</td>\n",
       "                        <td id=\"T_0350da58_bc40_11e9_898b_5cea1d67d3derow0_col3\" class=\"data row0 col3\" >$4.47</td>\n",
       "            </tr>\n",
       "            <tr>\n",
       "                        <th id=\"T_0350da58_bc40_11e9_898b_5cea1d67d3delevel0_row1\" class=\"row_heading level0 row1\" >Male</th>\n",
       "                        <td id=\"T_0350da58_bc40_11e9_898b_5cea1d67d3derow1_col0\" class=\"data row1 col0\" >652</td>\n",
       "                        <td id=\"T_0350da58_bc40_11e9_898b_5cea1d67d3derow1_col1\" class=\"data row1 col1\" >$3.02</td>\n",
       "                        <td id=\"T_0350da58_bc40_11e9_898b_5cea1d67d3derow1_col2\" class=\"data row1 col2\" >1967.64</td>\n",
       "                        <td id=\"T_0350da58_bc40_11e9_898b_5cea1d67d3derow1_col3\" class=\"data row1 col3\" >$4.07</td>\n",
       "            </tr>\n",
       "            <tr>\n",
       "                        <th id=\"T_0350da58_bc40_11e9_898b_5cea1d67d3delevel0_row2\" class=\"row_heading level0 row2\" >Other / Non-Disclosed</th>\n",
       "                        <td id=\"T_0350da58_bc40_11e9_898b_5cea1d67d3derow2_col0\" class=\"data row2 col0\" >15</td>\n",
       "                        <td id=\"T_0350da58_bc40_11e9_898b_5cea1d67d3derow2_col1\" class=\"data row2 col1\" >$3.35</td>\n",
       "                        <td id=\"T_0350da58_bc40_11e9_898b_5cea1d67d3derow2_col2\" class=\"data row2 col2\" >50.19</td>\n",
       "                        <td id=\"T_0350da58_bc40_11e9_898b_5cea1d67d3derow2_col3\" class=\"data row2 col3\" >$4.56</td>\n",
       "            </tr>\n",
       "    </tbody></table>"
      ],
      "text/plain": [
       "<pandas.io.formats.style.Styler at 0x1d0e3162278>"
      ]
     },
     "execution_count": 5,
     "metadata": {},
     "output_type": "execute_result"
    }
   ],
   "source": [
    "# Purchase Count by gender\n",
    "purchase_count = gender_status[\"Purchase ID\"].count()\n",
    "# Average Purchase Prices by gender\n",
    "avg_purchase_price = gender_status[\"Price\"].mean()\n",
    "# Purchase Total by gender\n",
    "purchase_total = gender_status[\"Price\"].sum()\n",
    "# Total Purchase per Person by gender\n",
    "avg_purchase_per_person = purchase_total/total_count_gender\n",
    "#Summary Data Frame \n",
    "gender_demographics = pd.DataFrame({\"Purhase Count\": purchase_count, \"Average Purchase Price\": avg_purchase_price, \n",
    "                                    \"Total Purchase Value\":purchase_total,\n",
    "                                    \"Avg Total Purchase per Person\": avg_purchase_per_person})\n",
    "# Data Formatting\n",
    "gender_demographics.index.name = \"Gender\"\n",
    "gender_demographics.style.format({\"Average Purchase Value\": \"${:,.2f}\",\n",
    "                                  \"Average Purchase Price\": \"${:,.2f}\",\n",
    "                                  \"Avg Total Purchase per Person\": \"${:,.2f}\"})"
   ]
  },
  {
   "cell_type": "markdown",
   "metadata": {},
   "source": [
    "## Age Demographics"
   ]
  },
  {
   "cell_type": "markdown",
   "metadata": {},
   "source": [
    "* Establish bins for ages\n",
    "\n",
    "\n",
    "* Categorize the existing players using the age bins. Hint: use pd.cut()\n",
    "\n",
    "\n",
    "* Calculate the numbers and percentages by age group\n",
    "\n",
    "\n",
    "* Create a summary data frame to hold the results\n",
    "\n",
    "\n",
    "* Optional: round the percentage column to two decimal points\n",
    "\n",
    "\n",
    "* Display Age Demographics Table\n"
   ]
  },
  {
   "cell_type": "code",
   "execution_count": 6,
   "metadata": {},
   "outputs": [
    {
     "name": "stdout",
     "output_type": "stream",
     "text": [
      "           Percentage of Players  Total Count Age\n",
      "Age Range                                        \n",
      "<10                     2.951389               17\n",
      "10-14                   3.819444               22\n",
      "15-19                  18.576389              107\n",
      "20-24                  44.791667              258\n",
      "25-29                  13.368056               77\n",
      "30-34                   9.027778               52\n",
      "35-39                   5.381944               31\n",
      "40+                     2.083333               12\n"
     ]
    }
   ],
   "source": [
    "\n",
    "# Establish bins/categorize the existing players\n",
    "bins = [0, 9, 14, 19, 24, 29, 34, 39, 100]\n",
    "group_names = [\"<10\", \"10-14\", \"15-19\", \"20-24\", \"25-29\", \"30-34\", \"35-39\", \"40+\"]\n",
    "purchase_data[\"Age Range\"] = pd.cut(purchase_data[\"Age\"], bins, labels=group_names)\n",
    "age_range_data = purchase_data.groupby(\"Age Range\")\n",
    "\n",
    "# Calculate the numbers and percentages\n",
    "total_count_age = age_range_data.nunique()[\"SN\"]\n",
    "percentage_of_players = total_count_age / total_players * 100\n",
    "\n",
    "age_demographics = pd.DataFrame({\"Percentage of Players\": percentage_of_players, \"Total Count Age\": total_count_age})\n",
    "\n",
    "# Data Formatting\n",
    "age_demographics.index.name = (\"Age Range\")\n",
    "age_demographics.sort_values([\"Total Count Age\"]).style.format({\"Percentage of Players\":\"{:.2f}\"})\n",
    "\n",
    "age_demographics = age_demographics.sort_index()\n",
    "print(age_demographics)\n"
   ]
  },
  {
   "cell_type": "markdown",
   "metadata": {},
   "source": [
    "## Purchasing Analysis (Age)"
   ]
  },
  {
   "cell_type": "markdown",
   "metadata": {},
   "source": [
    "* Bin the purchase_data data frame by age\n",
    "\n",
    "\n",
    "* Run basic calculations to obtain purchase count, avg. purchase price, avg. purchase total per person etc. in the table below\n",
    "\n",
    "\n",
    "* Create a summary data frame to hold the results\n",
    "\n",
    "\n",
    "* Optional: give the displayed data cleaner formatting\n",
    "\n",
    "\n",
    "* Display the summary data frame"
   ]
  },
  {
   "cell_type": "code",
   "execution_count": 7,
   "metadata": {},
   "outputs": [
    {
     "data": {
      "text/html": [
       "<style  type=\"text/css\" >\n",
       "</style><table id=\"T_03591078_bc40_11e9_a651_5cea1d67d3de\" ><thead>    <tr>        <th class=\"blank level0\" ></th>        <th class=\"col_heading level0 col0\" >Purhase Count</th>        <th class=\"col_heading level0 col1\" >Average Purchase Price</th>        <th class=\"col_heading level0 col2\" >Total Purchase Value</th>        <th class=\"col_heading level0 col3\" >Avg Total Purchase per Person</th>    </tr>    <tr>        <th class=\"index_name level0\" >Age Range</th>        <th class=\"blank\" ></th>        <th class=\"blank\" ></th>        <th class=\"blank\" ></th>        <th class=\"blank\" ></th>    </tr></thead><tbody>\n",
       "                <tr>\n",
       "                        <th id=\"T_03591078_bc40_11e9_a651_5cea1d67d3delevel0_row0\" class=\"row_heading level0 row0\" ><10</th>\n",
       "                        <td id=\"T_03591078_bc40_11e9_a651_5cea1d67d3derow0_col0\" class=\"data row0 col0\" >23</td>\n",
       "                        <td id=\"T_03591078_bc40_11e9_a651_5cea1d67d3derow0_col1\" class=\"data row0 col1\" >$3.35</td>\n",
       "                        <td id=\"T_03591078_bc40_11e9_a651_5cea1d67d3derow0_col2\" class=\"data row0 col2\" >77.13</td>\n",
       "                        <td id=\"T_03591078_bc40_11e9_a651_5cea1d67d3derow0_col3\" class=\"data row0 col3\" >$4.54</td>\n",
       "            </tr>\n",
       "            <tr>\n",
       "                        <th id=\"T_03591078_bc40_11e9_a651_5cea1d67d3delevel0_row1\" class=\"row_heading level0 row1\" >10-14</th>\n",
       "                        <td id=\"T_03591078_bc40_11e9_a651_5cea1d67d3derow1_col0\" class=\"data row1 col0\" >28</td>\n",
       "                        <td id=\"T_03591078_bc40_11e9_a651_5cea1d67d3derow1_col1\" class=\"data row1 col1\" >$2.96</td>\n",
       "                        <td id=\"T_03591078_bc40_11e9_a651_5cea1d67d3derow1_col2\" class=\"data row1 col2\" >82.78</td>\n",
       "                        <td id=\"T_03591078_bc40_11e9_a651_5cea1d67d3derow1_col3\" class=\"data row1 col3\" >$3.76</td>\n",
       "            </tr>\n",
       "            <tr>\n",
       "                        <th id=\"T_03591078_bc40_11e9_a651_5cea1d67d3delevel0_row2\" class=\"row_heading level0 row2\" >15-19</th>\n",
       "                        <td id=\"T_03591078_bc40_11e9_a651_5cea1d67d3derow2_col0\" class=\"data row2 col0\" >136</td>\n",
       "                        <td id=\"T_03591078_bc40_11e9_a651_5cea1d67d3derow2_col1\" class=\"data row2 col1\" >$3.04</td>\n",
       "                        <td id=\"T_03591078_bc40_11e9_a651_5cea1d67d3derow2_col2\" class=\"data row2 col2\" >412.89</td>\n",
       "                        <td id=\"T_03591078_bc40_11e9_a651_5cea1d67d3derow2_col3\" class=\"data row2 col3\" >$3.86</td>\n",
       "            </tr>\n",
       "            <tr>\n",
       "                        <th id=\"T_03591078_bc40_11e9_a651_5cea1d67d3delevel0_row3\" class=\"row_heading level0 row3\" >20-24</th>\n",
       "                        <td id=\"T_03591078_bc40_11e9_a651_5cea1d67d3derow3_col0\" class=\"data row3 col0\" >365</td>\n",
       "                        <td id=\"T_03591078_bc40_11e9_a651_5cea1d67d3derow3_col1\" class=\"data row3 col1\" >$3.05</td>\n",
       "                        <td id=\"T_03591078_bc40_11e9_a651_5cea1d67d3derow3_col2\" class=\"data row3 col2\" >1114.06</td>\n",
       "                        <td id=\"T_03591078_bc40_11e9_a651_5cea1d67d3derow3_col3\" class=\"data row3 col3\" >$4.32</td>\n",
       "            </tr>\n",
       "            <tr>\n",
       "                        <th id=\"T_03591078_bc40_11e9_a651_5cea1d67d3delevel0_row4\" class=\"row_heading level0 row4\" >25-29</th>\n",
       "                        <td id=\"T_03591078_bc40_11e9_a651_5cea1d67d3derow4_col0\" class=\"data row4 col0\" >101</td>\n",
       "                        <td id=\"T_03591078_bc40_11e9_a651_5cea1d67d3derow4_col1\" class=\"data row4 col1\" >$2.90</td>\n",
       "                        <td id=\"T_03591078_bc40_11e9_a651_5cea1d67d3derow4_col2\" class=\"data row4 col2\" >293</td>\n",
       "                        <td id=\"T_03591078_bc40_11e9_a651_5cea1d67d3derow4_col3\" class=\"data row4 col3\" >$3.81</td>\n",
       "            </tr>\n",
       "            <tr>\n",
       "                        <th id=\"T_03591078_bc40_11e9_a651_5cea1d67d3delevel0_row5\" class=\"row_heading level0 row5\" >30-34</th>\n",
       "                        <td id=\"T_03591078_bc40_11e9_a651_5cea1d67d3derow5_col0\" class=\"data row5 col0\" >73</td>\n",
       "                        <td id=\"T_03591078_bc40_11e9_a651_5cea1d67d3derow5_col1\" class=\"data row5 col1\" >$2.93</td>\n",
       "                        <td id=\"T_03591078_bc40_11e9_a651_5cea1d67d3derow5_col2\" class=\"data row5 col2\" >214</td>\n",
       "                        <td id=\"T_03591078_bc40_11e9_a651_5cea1d67d3derow5_col3\" class=\"data row5 col3\" >$4.12</td>\n",
       "            </tr>\n",
       "            <tr>\n",
       "                        <th id=\"T_03591078_bc40_11e9_a651_5cea1d67d3delevel0_row6\" class=\"row_heading level0 row6\" >35-39</th>\n",
       "                        <td id=\"T_03591078_bc40_11e9_a651_5cea1d67d3derow6_col0\" class=\"data row6 col0\" >41</td>\n",
       "                        <td id=\"T_03591078_bc40_11e9_a651_5cea1d67d3derow6_col1\" class=\"data row6 col1\" >$3.60</td>\n",
       "                        <td id=\"T_03591078_bc40_11e9_a651_5cea1d67d3derow6_col2\" class=\"data row6 col2\" >147.67</td>\n",
       "                        <td id=\"T_03591078_bc40_11e9_a651_5cea1d67d3derow6_col3\" class=\"data row6 col3\" >$4.76</td>\n",
       "            </tr>\n",
       "            <tr>\n",
       "                        <th id=\"T_03591078_bc40_11e9_a651_5cea1d67d3delevel0_row7\" class=\"row_heading level0 row7\" >40+</th>\n",
       "                        <td id=\"T_03591078_bc40_11e9_a651_5cea1d67d3derow7_col0\" class=\"data row7 col0\" >13</td>\n",
       "                        <td id=\"T_03591078_bc40_11e9_a651_5cea1d67d3derow7_col1\" class=\"data row7 col1\" >$2.94</td>\n",
       "                        <td id=\"T_03591078_bc40_11e9_a651_5cea1d67d3derow7_col2\" class=\"data row7 col2\" >38.24</td>\n",
       "                        <td id=\"T_03591078_bc40_11e9_a651_5cea1d67d3derow7_col3\" class=\"data row7 col3\" >$3.19</td>\n",
       "            </tr>\n",
       "    </tbody></table>"
      ],
      "text/plain": [
       "<pandas.io.formats.style.Styler at 0x1d0e4019208>"
      ]
     },
     "execution_count": 7,
     "metadata": {},
     "output_type": "execute_result"
    }
   ],
   "source": [
    "# Purchase Count by gender\n",
    "purchase_count = age_range_data[\"Purchase ID\"].count()\n",
    "# Average Purchase Prices by gender\n",
    "avg_purchase_price =  age_range_data[\"Price\"].mean()\n",
    "# Purchase Total by gender\n",
    "purchase_total =  age_range_data[\"Price\"].sum()\n",
    "# Total Purchase per Person by gender\n",
    "avg_purchase_per_person = purchase_total/ total_count_age\n",
    "#Summary Data Frame \n",
    "age_demographics = pd.DataFrame({\"Purhase Count\": purchase_count, \"Average Purchase Price\": avg_purchase_price, \n",
    "                                  \"Total Purchase Value\":purchase_total,\n",
    "                                    \"Avg Total Purchase per Person\": avg_purchase_per_person})\n",
    "# Data Formatting\n",
    "# age_demographics.index.name = \"Age Range\"\n",
    "age_demographics.style.format({\"Average Purchase Value\": \"${:,.2f}\",\n",
    "                                  \"Average Purchase Price\": \"${:,.2f}\",\n",
    "                                  \"Avg Total Purchase per Person\": \"${:,.2f}\"})"
   ]
  },
  {
   "cell_type": "markdown",
   "metadata": {},
   "source": [
    "## Top Spenders"
   ]
  },
  {
   "cell_type": "markdown",
   "metadata": {},
   "source": [
    "* Run basic calculations to obtain the results in the table below\n",
    "\n",
    "\n",
    "* Create a summary data frame to hold the results\n",
    "\n",
    "\n",
    "* Sort the total purchase value column in descending order\n",
    "\n",
    "\n",
    "* Optional: give the displayed data cleaner formatting\n",
    "\n",
    "\n",
    "* Display a preview of the summary data frame\n",
    "\n"
   ]
  },
  {
   "cell_type": "code",
   "execution_count": 8,
   "metadata": {},
   "outputs": [
    {
     "data": {
      "text/html": [
       "<style  type=\"text/css\" >\n",
       "</style><table id=\"T_035bf4b0_bc40_11e9_acae_5cea1d67d3de\" ><thead>    <tr>        <th class=\"blank level0\" ></th>        <th class=\"col_heading level0 col0\" >Purchase Count</th>        <th class=\"col_heading level0 col1\" >Average Purchase Price</th>        <th class=\"col_heading level0 col2\" >Total Purchase Value</th>    </tr>    <tr>        <th class=\"index_name level0\" >SN</th>        <th class=\"blank\" ></th>        <th class=\"blank\" ></th>        <th class=\"blank\" ></th>    </tr></thead><tbody>\n",
       "                <tr>\n",
       "                        <th id=\"T_035bf4b0_bc40_11e9_acae_5cea1d67d3delevel0_row0\" class=\"row_heading level0 row0\" >Lisosia93</th>\n",
       "                        <td id=\"T_035bf4b0_bc40_11e9_acae_5cea1d67d3derow0_col0\" class=\"data row0 col0\" >5</td>\n",
       "                        <td id=\"T_035bf4b0_bc40_11e9_acae_5cea1d67d3derow0_col1\" class=\"data row0 col1\" >$3.79</td>\n",
       "                        <td id=\"T_035bf4b0_bc40_11e9_acae_5cea1d67d3derow0_col2\" class=\"data row0 col2\" >$18.96</td>\n",
       "            </tr>\n",
       "            <tr>\n",
       "                        <th id=\"T_035bf4b0_bc40_11e9_acae_5cea1d67d3delevel0_row1\" class=\"row_heading level0 row1\" >Idastidru52</th>\n",
       "                        <td id=\"T_035bf4b0_bc40_11e9_acae_5cea1d67d3derow1_col0\" class=\"data row1 col0\" >4</td>\n",
       "                        <td id=\"T_035bf4b0_bc40_11e9_acae_5cea1d67d3derow1_col1\" class=\"data row1 col1\" >$3.86</td>\n",
       "                        <td id=\"T_035bf4b0_bc40_11e9_acae_5cea1d67d3derow1_col2\" class=\"data row1 col2\" >$15.45</td>\n",
       "            </tr>\n",
       "            <tr>\n",
       "                        <th id=\"T_035bf4b0_bc40_11e9_acae_5cea1d67d3delevel0_row2\" class=\"row_heading level0 row2\" >Chamjask73</th>\n",
       "                        <td id=\"T_035bf4b0_bc40_11e9_acae_5cea1d67d3derow2_col0\" class=\"data row2 col0\" >3</td>\n",
       "                        <td id=\"T_035bf4b0_bc40_11e9_acae_5cea1d67d3derow2_col1\" class=\"data row2 col1\" >$4.61</td>\n",
       "                        <td id=\"T_035bf4b0_bc40_11e9_acae_5cea1d67d3derow2_col2\" class=\"data row2 col2\" >$13.83</td>\n",
       "            </tr>\n",
       "            <tr>\n",
       "                        <th id=\"T_035bf4b0_bc40_11e9_acae_5cea1d67d3delevel0_row3\" class=\"row_heading level0 row3\" >Iral74</th>\n",
       "                        <td id=\"T_035bf4b0_bc40_11e9_acae_5cea1d67d3derow3_col0\" class=\"data row3 col0\" >4</td>\n",
       "                        <td id=\"T_035bf4b0_bc40_11e9_acae_5cea1d67d3derow3_col1\" class=\"data row3 col1\" >$3.40</td>\n",
       "                        <td id=\"T_035bf4b0_bc40_11e9_acae_5cea1d67d3derow3_col2\" class=\"data row3 col2\" >$13.62</td>\n",
       "            </tr>\n",
       "            <tr>\n",
       "                        <th id=\"T_035bf4b0_bc40_11e9_acae_5cea1d67d3delevel0_row4\" class=\"row_heading level0 row4\" >Iskadarya95</th>\n",
       "                        <td id=\"T_035bf4b0_bc40_11e9_acae_5cea1d67d3derow4_col0\" class=\"data row4 col0\" >3</td>\n",
       "                        <td id=\"T_035bf4b0_bc40_11e9_acae_5cea1d67d3derow4_col1\" class=\"data row4 col1\" >$4.37</td>\n",
       "                        <td id=\"T_035bf4b0_bc40_11e9_acae_5cea1d67d3derow4_col2\" class=\"data row4 col2\" >$13.10</td>\n",
       "            </tr>\n",
       "    </tbody></table>"
      ],
      "text/plain": [
       "<pandas.io.formats.style.Styler at 0x1d0e3939c18>"
      ]
     },
     "execution_count": 8,
     "metadata": {},
     "output_type": "execute_result"
    }
   ],
   "source": [
    "\n",
    "# basica colculations to obtain the results\n",
    "spender_stats = purchase_data.groupby(\"SN\")\n",
    " \n",
    "purchase_count_spender = spender_stats[\"Purchase ID\"].count()\n",
    "\n",
    "avg_purchase_price_spender = spender_stats[\"Price\"].mean()\n",
    "\n",
    "total_purchase_spender = spender_stats[\"Price\"].sum()\n",
    "\n",
    "# Summary Data Frame \n",
    "top_spenders_df = pd.DataFrame({\"Purchase Count\":purchase_count_spender,\n",
    "                               \"Average Purchase Price\":avg_purchase_price_spender,\n",
    "                               \"Total Purchase Value\":total_purchase_spender})\n",
    "\n",
    "# Sort the total purchase value column in descending order\n",
    "formatted_spenders = top_spenders_df.sort_values([\"Total Purchase Value\"], ascending= False).head()\n",
    "\n",
    "# Data Cleaner Formatting\n",
    "formatted_spenders.style.format({\"Average Purchase Total\":\"${:,.2f}\", \n",
    "                                 \"Average Purchase Price\":\"${:,.2f}\", \n",
    "                                 \"Total Purchase Value\": \"${:,.2f}\"})"
   ]
  },
  {
   "cell_type": "markdown",
   "metadata": {},
   "source": [
    "## Most Popular Items"
   ]
  },
  {
   "cell_type": "markdown",
   "metadata": {},
   "source": [
    "* Retrieve the Item ID, Item Name, and Item Price columns\n",
    "\n",
    "\n",
    "* Group by Item ID and Item Name. Perform calculations to obtain purchase count, item price, and total purchase value\n",
    "\n",
    "\n",
    "* Create a summary data frame to hold the results\n",
    "\n",
    "\n",
    "* Sort the purchase count column in descending order\n",
    "\n",
    "\n",
    "* Optional: give the displayed data cleaner formatting\n",
    "\n",
    "\n",
    "* Display a preview of the summary data frame\n",
    "\n"
   ]
  },
  {
   "cell_type": "code",
   "execution_count": 9,
   "metadata": {},
   "outputs": [
    {
     "data": {
      "text/html": [
       "<style  type=\"text/css\" >\n",
       "</style><table id=\"T_035f26d2_bc40_11e9_a1f0_5cea1d67d3de\" ><thead>    <tr>        <th class=\"blank\" ></th>        <th class=\"blank level0\" ></th>        <th class=\"col_heading level0 col0\" >Purchase Count</th>        <th class=\"col_heading level0 col1\" >Item Price</th>        <th class=\"col_heading level0 col2\" >Total Purchase Value</th>    </tr>    <tr>        <th class=\"index_name level0\" >Item ID</th>        <th class=\"index_name level1\" >Item Name</th>        <th class=\"blank\" ></th>        <th class=\"blank\" ></th>        <th class=\"blank\" ></th>    </tr></thead><tbody>\n",
       "                <tr>\n",
       "                        <th id=\"T_035f26d2_bc40_11e9_a1f0_5cea1d67d3delevel0_row0\" class=\"row_heading level0 row0\" >178</th>\n",
       "                        <th id=\"T_035f26d2_bc40_11e9_a1f0_5cea1d67d3delevel1_row0\" class=\"row_heading level1 row0\" >Oathbreaker, Last Hope of the Breaking Storm</th>\n",
       "                        <td id=\"T_035f26d2_bc40_11e9_a1f0_5cea1d67d3derow0_col0\" class=\"data row0 col0\" >12</td>\n",
       "                        <td id=\"T_035f26d2_bc40_11e9_a1f0_5cea1d67d3derow0_col1\" class=\"data row0 col1\" >$4.23</td>\n",
       "                        <td id=\"T_035f26d2_bc40_11e9_a1f0_5cea1d67d3derow0_col2\" class=\"data row0 col2\" >$50.76</td>\n",
       "            </tr>\n",
       "            <tr>\n",
       "                        <th id=\"T_035f26d2_bc40_11e9_a1f0_5cea1d67d3delevel0_row1\" class=\"row_heading level0 row1\" >145</th>\n",
       "                        <th id=\"T_035f26d2_bc40_11e9_a1f0_5cea1d67d3delevel1_row1\" class=\"row_heading level1 row1\" >Fiery Glass Crusader</th>\n",
       "                        <td id=\"T_035f26d2_bc40_11e9_a1f0_5cea1d67d3derow1_col0\" class=\"data row1 col0\" >9</td>\n",
       "                        <td id=\"T_035f26d2_bc40_11e9_a1f0_5cea1d67d3derow1_col1\" class=\"data row1 col1\" >$4.58</td>\n",
       "                        <td id=\"T_035f26d2_bc40_11e9_a1f0_5cea1d67d3derow1_col2\" class=\"data row1 col2\" >$41.22</td>\n",
       "            </tr>\n",
       "            <tr>\n",
       "                        <th id=\"T_035f26d2_bc40_11e9_a1f0_5cea1d67d3delevel0_row2\" class=\"row_heading level0 row2\" >108</th>\n",
       "                        <th id=\"T_035f26d2_bc40_11e9_a1f0_5cea1d67d3delevel1_row2\" class=\"row_heading level1 row2\" >Extraction, Quickblade Of Trembling Hands</th>\n",
       "                        <td id=\"T_035f26d2_bc40_11e9_a1f0_5cea1d67d3derow2_col0\" class=\"data row2 col0\" >9</td>\n",
       "                        <td id=\"T_035f26d2_bc40_11e9_a1f0_5cea1d67d3derow2_col1\" class=\"data row2 col1\" >$3.53</td>\n",
       "                        <td id=\"T_035f26d2_bc40_11e9_a1f0_5cea1d67d3derow2_col2\" class=\"data row2 col2\" >$31.77</td>\n",
       "            </tr>\n",
       "            <tr>\n",
       "                        <th id=\"T_035f26d2_bc40_11e9_a1f0_5cea1d67d3delevel0_row3\" class=\"row_heading level0 row3\" >82</th>\n",
       "                        <th id=\"T_035f26d2_bc40_11e9_a1f0_5cea1d67d3delevel1_row3\" class=\"row_heading level1 row3\" >Nirvana</th>\n",
       "                        <td id=\"T_035f26d2_bc40_11e9_a1f0_5cea1d67d3derow3_col0\" class=\"data row3 col0\" >9</td>\n",
       "                        <td id=\"T_035f26d2_bc40_11e9_a1f0_5cea1d67d3derow3_col1\" class=\"data row3 col1\" >$4.90</td>\n",
       "                        <td id=\"T_035f26d2_bc40_11e9_a1f0_5cea1d67d3derow3_col2\" class=\"data row3 col2\" >$44.10</td>\n",
       "            </tr>\n",
       "            <tr>\n",
       "                        <th id=\"T_035f26d2_bc40_11e9_a1f0_5cea1d67d3delevel0_row4\" class=\"row_heading level0 row4\" >19</th>\n",
       "                        <th id=\"T_035f26d2_bc40_11e9_a1f0_5cea1d67d3delevel1_row4\" class=\"row_heading level1 row4\" >Pursuit, Cudgel of Necromancy</th>\n",
       "                        <td id=\"T_035f26d2_bc40_11e9_a1f0_5cea1d67d3derow4_col0\" class=\"data row4 col0\" >8</td>\n",
       "                        <td id=\"T_035f26d2_bc40_11e9_a1f0_5cea1d67d3derow4_col1\" class=\"data row4 col1\" >$1.02</td>\n",
       "                        <td id=\"T_035f26d2_bc40_11e9_a1f0_5cea1d67d3derow4_col2\" class=\"data row4 col2\" >$8.16</td>\n",
       "            </tr>\n",
       "    </tbody></table>"
      ],
      "text/plain": [
       "<pandas.io.formats.style.Styler at 0x1d0e400db38>"
      ]
     },
     "execution_count": 9,
     "metadata": {},
     "output_type": "execute_result"
    }
   ],
   "source": [
    "# Retrieve the Item ID, Item Name, and Item Price columns\n",
    "items = purchase_data[[\"Item ID\", \"Item Name\", \"Price\"]]\n",
    "\n",
    "\n",
    "item_stats = items.groupby([\"Item ID\",\"Item Name\"])\n",
    "\n",
    "\n",
    "purchase_count_item= item_stats[\"Price\"].count()\n",
    "\n",
    "\n",
    "total_purchase_value= (item_stats[\"Price\"].sum())\n",
    "item_price = total_purchase_value/purchase_count_item\n",
    "\n",
    "most_popular_items = pd.DataFrame({\"Purchase Count\":purchase_count_item,\n",
    "                             \"Item Price\":item_price,\n",
    "                             \"Total Purchase Value\":total_purchase_value})\n",
    "\n",
    "\n",
    "# Sort the total purchase value column in descending order\n",
    "most_popular_formatted = most_popular_items.sort_values([\"Purchase Count\"], ascending= False).head()\n",
    "\n",
    "# Data Cleaner Formatting\n",
    "most_popular_formatted.style.format({\"Item Price\":\"${:,.2f}\", \n",
    "                         \"Total Purchase Value\": \"${:,.2f}\"})\n"
   ]
  },
  {
   "cell_type": "markdown",
   "metadata": {},
   "source": [
    "## Most Profitable Items"
   ]
  },
  {
   "cell_type": "markdown",
   "metadata": {},
   "source": [
    "* Sort the above table by total purchase value in descending order\n",
    "\n",
    "\n",
    "* Optional: give the displayed data cleaner formatting\n",
    "\n",
    "\n",
    "* Display a preview of the data frame\n",
    "\n"
   ]
  },
  {
   "cell_type": "code",
   "execution_count": 12,
   "metadata": {
    "scrolled": true
   },
   "outputs": [
    {
     "data": {
      "text/html": [
       "<style  type=\"text/css\" >\n",
       "</style><table id=\"T_9eeff29c_bc40_11e9_82f4_5cea1d67d3de\" ><thead>    <tr>        <th class=\"blank\" ></th>        <th class=\"blank level0\" ></th>        <th class=\"col_heading level0 col0\" >Purchase Count</th>        <th class=\"col_heading level0 col1\" >Item Price</th>        <th class=\"col_heading level0 col2\" >Total Purchase Value</th>    </tr>    <tr>        <th class=\"index_name level0\" >Item ID</th>        <th class=\"index_name level1\" >Item Name</th>        <th class=\"blank\" ></th>        <th class=\"blank\" ></th>        <th class=\"blank\" ></th>    </tr></thead><tbody>\n",
       "                <tr>\n",
       "                        <th id=\"T_9eeff29c_bc40_11e9_82f4_5cea1d67d3delevel0_row0\" class=\"row_heading level0 row0\" >178</th>\n",
       "                        <th id=\"T_9eeff29c_bc40_11e9_82f4_5cea1d67d3delevel1_row0\" class=\"row_heading level1 row0\" >Oathbreaker, Last Hope of the Breaking Storm</th>\n",
       "                        <td id=\"T_9eeff29c_bc40_11e9_82f4_5cea1d67d3derow0_col0\" class=\"data row0 col0\" >12</td>\n",
       "                        <td id=\"T_9eeff29c_bc40_11e9_82f4_5cea1d67d3derow0_col1\" class=\"data row0 col1\" >$4.23</td>\n",
       "                        <td id=\"T_9eeff29c_bc40_11e9_82f4_5cea1d67d3derow0_col2\" class=\"data row0 col2\" >$50.76</td>\n",
       "            </tr>\n",
       "            <tr>\n",
       "                        <th id=\"T_9eeff29c_bc40_11e9_82f4_5cea1d67d3delevel0_row1\" class=\"row_heading level0 row1\" >82</th>\n",
       "                        <th id=\"T_9eeff29c_bc40_11e9_82f4_5cea1d67d3delevel1_row1\" class=\"row_heading level1 row1\" >Nirvana</th>\n",
       "                        <td id=\"T_9eeff29c_bc40_11e9_82f4_5cea1d67d3derow1_col0\" class=\"data row1 col0\" >9</td>\n",
       "                        <td id=\"T_9eeff29c_bc40_11e9_82f4_5cea1d67d3derow1_col1\" class=\"data row1 col1\" >$4.90</td>\n",
       "                        <td id=\"T_9eeff29c_bc40_11e9_82f4_5cea1d67d3derow1_col2\" class=\"data row1 col2\" >$44.10</td>\n",
       "            </tr>\n",
       "            <tr>\n",
       "                        <th id=\"T_9eeff29c_bc40_11e9_82f4_5cea1d67d3delevel0_row2\" class=\"row_heading level0 row2\" >145</th>\n",
       "                        <th id=\"T_9eeff29c_bc40_11e9_82f4_5cea1d67d3delevel1_row2\" class=\"row_heading level1 row2\" >Fiery Glass Crusader</th>\n",
       "                        <td id=\"T_9eeff29c_bc40_11e9_82f4_5cea1d67d3derow2_col0\" class=\"data row2 col0\" >9</td>\n",
       "                        <td id=\"T_9eeff29c_bc40_11e9_82f4_5cea1d67d3derow2_col1\" class=\"data row2 col1\" >$4.58</td>\n",
       "                        <td id=\"T_9eeff29c_bc40_11e9_82f4_5cea1d67d3derow2_col2\" class=\"data row2 col2\" >$41.22</td>\n",
       "            </tr>\n",
       "            <tr>\n",
       "                        <th id=\"T_9eeff29c_bc40_11e9_82f4_5cea1d67d3delevel0_row3\" class=\"row_heading level0 row3\" >92</th>\n",
       "                        <th id=\"T_9eeff29c_bc40_11e9_82f4_5cea1d67d3delevel1_row3\" class=\"row_heading level1 row3\" >Final Critic</th>\n",
       "                        <td id=\"T_9eeff29c_bc40_11e9_82f4_5cea1d67d3derow3_col0\" class=\"data row3 col0\" >8</td>\n",
       "                        <td id=\"T_9eeff29c_bc40_11e9_82f4_5cea1d67d3derow3_col1\" class=\"data row3 col1\" >$4.88</td>\n",
       "                        <td id=\"T_9eeff29c_bc40_11e9_82f4_5cea1d67d3derow3_col2\" class=\"data row3 col2\" >$39.04</td>\n",
       "            </tr>\n",
       "            <tr>\n",
       "                        <th id=\"T_9eeff29c_bc40_11e9_82f4_5cea1d67d3delevel0_row4\" class=\"row_heading level0 row4\" >103</th>\n",
       "                        <th id=\"T_9eeff29c_bc40_11e9_82f4_5cea1d67d3delevel1_row4\" class=\"row_heading level1 row4\" >Singed Scalpel</th>\n",
       "                        <td id=\"T_9eeff29c_bc40_11e9_82f4_5cea1d67d3derow4_col0\" class=\"data row4 col0\" >8</td>\n",
       "                        <td id=\"T_9eeff29c_bc40_11e9_82f4_5cea1d67d3derow4_col1\" class=\"data row4 col1\" >$4.35</td>\n",
       "                        <td id=\"T_9eeff29c_bc40_11e9_82f4_5cea1d67d3derow4_col2\" class=\"data row4 col2\" >$34.80</td>\n",
       "            </tr>\n",
       "    </tbody></table>"
      ],
      "text/plain": [
       "<pandas.io.formats.style.Styler at 0x1d0e401d908>"
      ]
     },
     "execution_count": 12,
     "metadata": {},
     "output_type": "execute_result"
    }
   ],
   "source": [
    "most_popular_formatted = most_popular_items.sort_values([\"Total Purchase Value\"], ascending= False).head()\n",
    "most_popular_formatted.style.format({\"Item Price\":\"${:,.2f}\", \n",
    "                         \"Total Purchase Value\": \"${:,.2f}\"})\n",
    "\n"
   ]
  },
  {
   "cell_type": "code",
   "execution_count": null,
   "metadata": {},
   "outputs": [],
   "source": []
  },
  {
   "cell_type": "code",
   "execution_count": null,
   "metadata": {},
   "outputs": [],
   "source": []
  }
 ],
 "metadata": {
  "anaconda-cloud": {},
  "kernel_info": {
   "name": "python3"
  },
  "kernelspec": {
   "display_name": "Python 3",
   "language": "python",
   "name": "python3"
  },
  "language_info": {
   "codemirror_mode": {
    "name": "ipython",
    "version": 3
   },
   "file_extension": ".py",
   "mimetype": "text/x-python",
   "name": "python",
   "nbconvert_exporter": "python",
   "pygments_lexer": "ipython3",
   "version": "3.6.9"
  },
  "latex_envs": {
   "LaTeX_envs_menu_present": true,
   "autoclose": false,
   "autocomplete": true,
   "bibliofile": "biblio.bib",
   "cite_by": "apalike",
   "current_citInitial": 1,
   "eqLabelWithNumbers": true,
   "eqNumInitial": 1,
   "hotkeys": {
    "equation": "Ctrl-E",
    "itemize": "Ctrl-I"
   },
   "labels_anchors": false,
   "latex_user_defs": false,
   "report_style_numbering": false,
   "user_envs_cfg": false
  },
  "nteract": {
   "version": "0.2.0"
  }
 },
 "nbformat": 4,
 "nbformat_minor": 2
}
